{
  "nbformat": 4,
  "nbformat_minor": 0,
  "metadata": {
    "colab": {
      "provenance": [],
      "toc_visible": true,
      "include_colab_link": true
    },
    "kernelspec": {
      "name": "python3",
      "display_name": "Python 3"
    },
    "language_info": {
      "name": "python"
    }
  },
  "cells": [
    {
      "cell_type": "markdown",
      "metadata": {
        "id": "view-in-github",
        "colab_type": "text"
      },
      "source": [
        "<a href=\"https://colab.research.google.com/github/lukitasmois/2162-clasificacion-validacion-de-modelos-y-metricas/blob/main/Clasificacion_validacion_y_metricas.ipynb\" target=\"_parent\"><img src=\"https://colab.research.google.com/assets/colab-badge.svg\" alt=\"Open In Colab\"/></a>"
      ]
    },
    {
      "cell_type": "markdown",
      "source": [
        "# <font color='dark'>**Clasificación: Validación de modelos y métricas de evaluación**</h1>"
      ],
      "metadata": {
        "id": "MCqTDybk4ShK"
      }
    },
    {
      "cell_type": "markdown",
      "source": [
        "### Proyecto\n",
        "\n",
        "Una empresa de financiamiento de automóviles está atravesando una situación complicada, con una alta demanda para una flota reducida de vehículos y un alto número de morosos, lo que está generando grandes pérdidas para la empresa.\n",
        "\n",
        "Nosotros fuimos contratados para buscar mejoras en la identificación de morosos. El análisis de los clientes actualmente se realiza de forma manual, cliente por cliente, lo que consume mucho tiempo y, aun así, la detección de morosos es muy imprecisa.\n",
        "\n",
        "Nuestra tarea es utilizar los datos proporcionados por la empresa para **clasificar** a los clientes en cumplidores y morosos."
      ],
      "metadata": {
        "id": "WscU3KG7a9No"
      }
    },
    {
      "cell_type": "markdown",
      "source": [
        "## <font color='dark'>Clasificando los datos</h1>"
      ],
      "metadata": {
        "id": "WgS8iF51Csrn"
      }
    },
    {
      "cell_type": "markdown",
      "source": [
        "### Creando un modelo inicial"
      ],
      "metadata": {
        "id": "6lExmBuKn-xe"
      }
    },
    {
      "cell_type": "code",
      "source": [
        "import pandas as pd\n",
        "datos = pd.read_csv('https://raw.githubusercontent.com/lukitasmois/2162-clasificacion-validacion-de-modelos-y-metricas/refs/heads/main/prestacar.csv')"
      ],
      "metadata": {
        "id": "ANJDC3LqP43q"
      },
      "execution_count": 1,
      "outputs": []
    },
    {
      "cell_type": "code",
      "source": [
        "datos.head()"
      ],
      "metadata": {
        "id": "UPddns6dP4kt",
        "colab": {
          "base_uri": "https://localhost:8080/",
          "height": 206
        },
        "outputId": "d9c09621-30ce-4deb-8f59-0416962c23d1"
      },
      "execution_count": 2,
      "outputs": [
        {
          "output_type": "execute_result",
          "data": {
            "text/plain": [
              "   ingresos_cliente  anualidad_prestamo  años_casa_propia  telefono_trab  \\\n",
              "0           12600.0         3569.400000         12.157324              1   \n",
              "1            9000.0         2722.188351          7.000000              0   \n",
              "2           15750.0         4477.500000         12.000000              0   \n",
              "3            9000.0         1309.050000         12.157324              0   \n",
              "4            7650.0         1125.000000         12.157324              0   \n",
              "\n",
              "   evaluacion_ciudad   score_1   score_2   score_3  score_social  \\\n",
              "0                2.0  0.057153  0.527227  0.513171      0.117428   \n",
              "1                2.0  0.657661  0.285898  0.614414      0.222700   \n",
              "2                2.0  0.501213  0.695423  0.513171      0.117428   \n",
              "3                3.0  0.501213  0.155973  0.513171      0.117428   \n",
              "4                2.0  0.294328  0.152076  0.513171      0.117428   \n",
              "\n",
              "   cambio_telefono  moroso  \n",
              "0           2545.0       0  \n",
              "1            495.0       0  \n",
              "2           1212.0       0  \n",
              "3            515.0       0  \n",
              "4            162.0       0  "
            ],
            "text/html": [
              "\n",
              "  <div id=\"df-4a46e2be-ded8-4987-aa9a-9725be41612a\" class=\"colab-df-container\">\n",
              "    <div>\n",
              "<style scoped>\n",
              "    .dataframe tbody tr th:only-of-type {\n",
              "        vertical-align: middle;\n",
              "    }\n",
              "\n",
              "    .dataframe tbody tr th {\n",
              "        vertical-align: top;\n",
              "    }\n",
              "\n",
              "    .dataframe thead th {\n",
              "        text-align: right;\n",
              "    }\n",
              "</style>\n",
              "<table border=\"1\" class=\"dataframe\">\n",
              "  <thead>\n",
              "    <tr style=\"text-align: right;\">\n",
              "      <th></th>\n",
              "      <th>ingresos_cliente</th>\n",
              "      <th>anualidad_prestamo</th>\n",
              "      <th>años_casa_propia</th>\n",
              "      <th>telefono_trab</th>\n",
              "      <th>evaluacion_ciudad</th>\n",
              "      <th>score_1</th>\n",
              "      <th>score_2</th>\n",
              "      <th>score_3</th>\n",
              "      <th>score_social</th>\n",
              "      <th>cambio_telefono</th>\n",
              "      <th>moroso</th>\n",
              "    </tr>\n",
              "  </thead>\n",
              "  <tbody>\n",
              "    <tr>\n",
              "      <th>0</th>\n",
              "      <td>12600.0</td>\n",
              "      <td>3569.400000</td>\n",
              "      <td>12.157324</td>\n",
              "      <td>1</td>\n",
              "      <td>2.0</td>\n",
              "      <td>0.057153</td>\n",
              "      <td>0.527227</td>\n",
              "      <td>0.513171</td>\n",
              "      <td>0.117428</td>\n",
              "      <td>2545.0</td>\n",
              "      <td>0</td>\n",
              "    </tr>\n",
              "    <tr>\n",
              "      <th>1</th>\n",
              "      <td>9000.0</td>\n",
              "      <td>2722.188351</td>\n",
              "      <td>7.000000</td>\n",
              "      <td>0</td>\n",
              "      <td>2.0</td>\n",
              "      <td>0.657661</td>\n",
              "      <td>0.285898</td>\n",
              "      <td>0.614414</td>\n",
              "      <td>0.222700</td>\n",
              "      <td>495.0</td>\n",
              "      <td>0</td>\n",
              "    </tr>\n",
              "    <tr>\n",
              "      <th>2</th>\n",
              "      <td>15750.0</td>\n",
              "      <td>4477.500000</td>\n",
              "      <td>12.000000</td>\n",
              "      <td>0</td>\n",
              "      <td>2.0</td>\n",
              "      <td>0.501213</td>\n",
              "      <td>0.695423</td>\n",
              "      <td>0.513171</td>\n",
              "      <td>0.117428</td>\n",
              "      <td>1212.0</td>\n",
              "      <td>0</td>\n",
              "    </tr>\n",
              "    <tr>\n",
              "      <th>3</th>\n",
              "      <td>9000.0</td>\n",
              "      <td>1309.050000</td>\n",
              "      <td>12.157324</td>\n",
              "      <td>0</td>\n",
              "      <td>3.0</td>\n",
              "      <td>0.501213</td>\n",
              "      <td>0.155973</td>\n",
              "      <td>0.513171</td>\n",
              "      <td>0.117428</td>\n",
              "      <td>515.0</td>\n",
              "      <td>0</td>\n",
              "    </tr>\n",
              "    <tr>\n",
              "      <th>4</th>\n",
              "      <td>7650.0</td>\n",
              "      <td>1125.000000</td>\n",
              "      <td>12.157324</td>\n",
              "      <td>0</td>\n",
              "      <td>2.0</td>\n",
              "      <td>0.294328</td>\n",
              "      <td>0.152076</td>\n",
              "      <td>0.513171</td>\n",
              "      <td>0.117428</td>\n",
              "      <td>162.0</td>\n",
              "      <td>0</td>\n",
              "    </tr>\n",
              "  </tbody>\n",
              "</table>\n",
              "</div>\n",
              "    <div class=\"colab-df-buttons\">\n",
              "\n",
              "  <div class=\"colab-df-container\">\n",
              "    <button class=\"colab-df-convert\" onclick=\"convertToInteractive('df-4a46e2be-ded8-4987-aa9a-9725be41612a')\"\n",
              "            title=\"Convert this dataframe to an interactive table.\"\n",
              "            style=\"display:none;\">\n",
              "\n",
              "  <svg xmlns=\"http://www.w3.org/2000/svg\" height=\"24px\" viewBox=\"0 -960 960 960\">\n",
              "    <path d=\"M120-120v-720h720v720H120Zm60-500h600v-160H180v160Zm220 220h160v-160H400v160Zm0 220h160v-160H400v160ZM180-400h160v-160H180v160Zm440 0h160v-160H620v160ZM180-180h160v-160H180v160Zm440 0h160v-160H620v160Z\"/>\n",
              "  </svg>\n",
              "    </button>\n",
              "\n",
              "  <style>\n",
              "    .colab-df-container {\n",
              "      display:flex;\n",
              "      gap: 12px;\n",
              "    }\n",
              "\n",
              "    .colab-df-convert {\n",
              "      background-color: #E8F0FE;\n",
              "      border: none;\n",
              "      border-radius: 50%;\n",
              "      cursor: pointer;\n",
              "      display: none;\n",
              "      fill: #1967D2;\n",
              "      height: 32px;\n",
              "      padding: 0 0 0 0;\n",
              "      width: 32px;\n",
              "    }\n",
              "\n",
              "    .colab-df-convert:hover {\n",
              "      background-color: #E2EBFA;\n",
              "      box-shadow: 0px 1px 2px rgba(60, 64, 67, 0.3), 0px 1px 3px 1px rgba(60, 64, 67, 0.15);\n",
              "      fill: #174EA6;\n",
              "    }\n",
              "\n",
              "    .colab-df-buttons div {\n",
              "      margin-bottom: 4px;\n",
              "    }\n",
              "\n",
              "    [theme=dark] .colab-df-convert {\n",
              "      background-color: #3B4455;\n",
              "      fill: #D2E3FC;\n",
              "    }\n",
              "\n",
              "    [theme=dark] .colab-df-convert:hover {\n",
              "      background-color: #434B5C;\n",
              "      box-shadow: 0px 1px 3px 1px rgba(0, 0, 0, 0.15);\n",
              "      filter: drop-shadow(0px 1px 2px rgba(0, 0, 0, 0.3));\n",
              "      fill: #FFFFFF;\n",
              "    }\n",
              "  </style>\n",
              "\n",
              "    <script>\n",
              "      const buttonEl =\n",
              "        document.querySelector('#df-4a46e2be-ded8-4987-aa9a-9725be41612a button.colab-df-convert');\n",
              "      buttonEl.style.display =\n",
              "        google.colab.kernel.accessAllowed ? 'block' : 'none';\n",
              "\n",
              "      async function convertToInteractive(key) {\n",
              "        const element = document.querySelector('#df-4a46e2be-ded8-4987-aa9a-9725be41612a');\n",
              "        const dataTable =\n",
              "          await google.colab.kernel.invokeFunction('convertToInteractive',\n",
              "                                                    [key], {});\n",
              "        if (!dataTable) return;\n",
              "\n",
              "        const docLinkHtml = 'Like what you see? Visit the ' +\n",
              "          '<a target=\"_blank\" href=https://colab.research.google.com/notebooks/data_table.ipynb>data table notebook</a>'\n",
              "          + ' to learn more about interactive tables.';\n",
              "        element.innerHTML = '';\n",
              "        dataTable['output_type'] = 'display_data';\n",
              "        await google.colab.output.renderOutput(dataTable, element);\n",
              "        const docLink = document.createElement('div');\n",
              "        docLink.innerHTML = docLinkHtml;\n",
              "        element.appendChild(docLink);\n",
              "      }\n",
              "    </script>\n",
              "  </div>\n",
              "\n",
              "\n",
              "    <div id=\"df-44a8f3b6-8d6f-44db-b54a-f65fdffb293c\">\n",
              "      <button class=\"colab-df-quickchart\" onclick=\"quickchart('df-44a8f3b6-8d6f-44db-b54a-f65fdffb293c')\"\n",
              "                title=\"Suggest charts\"\n",
              "                style=\"display:none;\">\n",
              "\n",
              "<svg xmlns=\"http://www.w3.org/2000/svg\" height=\"24px\"viewBox=\"0 0 24 24\"\n",
              "     width=\"24px\">\n",
              "    <g>\n",
              "        <path d=\"M19 3H5c-1.1 0-2 .9-2 2v14c0 1.1.9 2 2 2h14c1.1 0 2-.9 2-2V5c0-1.1-.9-2-2-2zM9 17H7v-7h2v7zm4 0h-2V7h2v10zm4 0h-2v-4h2v4z\"/>\n",
              "    </g>\n",
              "</svg>\n",
              "      </button>\n",
              "\n",
              "<style>\n",
              "  .colab-df-quickchart {\n",
              "      --bg-color: #E8F0FE;\n",
              "      --fill-color: #1967D2;\n",
              "      --hover-bg-color: #E2EBFA;\n",
              "      --hover-fill-color: #174EA6;\n",
              "      --disabled-fill-color: #AAA;\n",
              "      --disabled-bg-color: #DDD;\n",
              "  }\n",
              "\n",
              "  [theme=dark] .colab-df-quickchart {\n",
              "      --bg-color: #3B4455;\n",
              "      --fill-color: #D2E3FC;\n",
              "      --hover-bg-color: #434B5C;\n",
              "      --hover-fill-color: #FFFFFF;\n",
              "      --disabled-bg-color: #3B4455;\n",
              "      --disabled-fill-color: #666;\n",
              "  }\n",
              "\n",
              "  .colab-df-quickchart {\n",
              "    background-color: var(--bg-color);\n",
              "    border: none;\n",
              "    border-radius: 50%;\n",
              "    cursor: pointer;\n",
              "    display: none;\n",
              "    fill: var(--fill-color);\n",
              "    height: 32px;\n",
              "    padding: 0;\n",
              "    width: 32px;\n",
              "  }\n",
              "\n",
              "  .colab-df-quickchart:hover {\n",
              "    background-color: var(--hover-bg-color);\n",
              "    box-shadow: 0 1px 2px rgba(60, 64, 67, 0.3), 0 1px 3px 1px rgba(60, 64, 67, 0.15);\n",
              "    fill: var(--button-hover-fill-color);\n",
              "  }\n",
              "\n",
              "  .colab-df-quickchart-complete:disabled,\n",
              "  .colab-df-quickchart-complete:disabled:hover {\n",
              "    background-color: var(--disabled-bg-color);\n",
              "    fill: var(--disabled-fill-color);\n",
              "    box-shadow: none;\n",
              "  }\n",
              "\n",
              "  .colab-df-spinner {\n",
              "    border: 2px solid var(--fill-color);\n",
              "    border-color: transparent;\n",
              "    border-bottom-color: var(--fill-color);\n",
              "    animation:\n",
              "      spin 1s steps(1) infinite;\n",
              "  }\n",
              "\n",
              "  @keyframes spin {\n",
              "    0% {\n",
              "      border-color: transparent;\n",
              "      border-bottom-color: var(--fill-color);\n",
              "      border-left-color: var(--fill-color);\n",
              "    }\n",
              "    20% {\n",
              "      border-color: transparent;\n",
              "      border-left-color: var(--fill-color);\n",
              "      border-top-color: var(--fill-color);\n",
              "    }\n",
              "    30% {\n",
              "      border-color: transparent;\n",
              "      border-left-color: var(--fill-color);\n",
              "      border-top-color: var(--fill-color);\n",
              "      border-right-color: var(--fill-color);\n",
              "    }\n",
              "    40% {\n",
              "      border-color: transparent;\n",
              "      border-right-color: var(--fill-color);\n",
              "      border-top-color: var(--fill-color);\n",
              "    }\n",
              "    60% {\n",
              "      border-color: transparent;\n",
              "      border-right-color: var(--fill-color);\n",
              "    }\n",
              "    80% {\n",
              "      border-color: transparent;\n",
              "      border-right-color: var(--fill-color);\n",
              "      border-bottom-color: var(--fill-color);\n",
              "    }\n",
              "    90% {\n",
              "      border-color: transparent;\n",
              "      border-bottom-color: var(--fill-color);\n",
              "    }\n",
              "  }\n",
              "</style>\n",
              "\n",
              "      <script>\n",
              "        async function quickchart(key) {\n",
              "          const quickchartButtonEl =\n",
              "            document.querySelector('#' + key + ' button');\n",
              "          quickchartButtonEl.disabled = true;  // To prevent multiple clicks.\n",
              "          quickchartButtonEl.classList.add('colab-df-spinner');\n",
              "          try {\n",
              "            const charts = await google.colab.kernel.invokeFunction(\n",
              "                'suggestCharts', [key], {});\n",
              "          } catch (error) {\n",
              "            console.error('Error during call to suggestCharts:', error);\n",
              "          }\n",
              "          quickchartButtonEl.classList.remove('colab-df-spinner');\n",
              "          quickchartButtonEl.classList.add('colab-df-quickchart-complete');\n",
              "        }\n",
              "        (() => {\n",
              "          let quickchartButtonEl =\n",
              "            document.querySelector('#df-44a8f3b6-8d6f-44db-b54a-f65fdffb293c button');\n",
              "          quickchartButtonEl.style.display =\n",
              "            google.colab.kernel.accessAllowed ? 'block' : 'none';\n",
              "        })();\n",
              "      </script>\n",
              "    </div>\n",
              "\n",
              "    </div>\n",
              "  </div>\n"
            ],
            "application/vnd.google.colaboratory.intrinsic+json": {
              "type": "dataframe",
              "variable_name": "datos",
              "summary": "{\n  \"name\": \"datos\",\n  \"rows\": 54025,\n  \"fields\": [\n    {\n      \"column\": \"ingresos_cliente\",\n      \"properties\": {\n        \"dtype\": \"number\",\n        \"std\": 9658.762569130264,\n        \"min\": 2700.0,\n        \"max\": 450000.0,\n        \"num_unique_values\": 663,\n        \"samples\": [\n          11018.7,\n          38520.0,\n          17796.6\n        ],\n        \"semantic_type\": \"\",\n        \"description\": \"\"\n      }\n    },\n    {\n      \"column\": \"anualidad_prestamo\",\n      \"properties\": {\n        \"dtype\": \"number\",\n        \"std\": 1305.3647344874787,\n        \"min\": 218.7,\n        \"max\": 22500.0,\n        \"num_unique_values\": 8004,\n        \"samples\": [\n          5339.7,\n          5067.0,\n          5757.3\n        ],\n        \"semantic_type\": \"\",\n        \"description\": \"\"\n      }\n    },\n    {\n      \"column\": \"a\\u00f1os_casa_propia\",\n      \"properties\": {\n        \"dtype\": \"number\",\n        \"std\": 7.452120104984191,\n        \"min\": 0.0,\n        \"max\": 69.0,\n        \"num_unique_values\": 53,\n        \"samples\": [\n          11.0,\n          31.0,\n          32.0\n        ],\n        \"semantic_type\": \"\",\n        \"description\": \"\"\n      }\n    },\n    {\n      \"column\": \"telefono_trab\",\n      \"properties\": {\n        \"dtype\": \"number\",\n        \"std\": 0,\n        \"min\": 0,\n        \"max\": 1,\n        \"num_unique_values\": 2,\n        \"samples\": [\n          0,\n          1\n        ],\n        \"semantic_type\": \"\",\n        \"description\": \"\"\n      }\n    },\n    {\n      \"column\": \"evaluacion_ciudad\",\n      \"properties\": {\n        \"dtype\": \"number\",\n        \"std\": 0.49880682251877845,\n        \"min\": 1.0,\n        \"max\": 3.0,\n        \"num_unique_values\": 4,\n        \"samples\": [\n          3.0,\n          2.030038427084816\n        ],\n        \"semantic_type\": \"\",\n        \"description\": \"\"\n      }\n    },\n    {\n      \"column\": \"score_1\",\n      \"properties\": {\n        \"dtype\": \"number\",\n        \"std\": 0.14238945649917853,\n        \"min\": 0.014568132,\n        \"max\": 0.942680454,\n        \"num_unique_values\": 23062,\n        \"samples\": [\n          0.475611877,\n          0.435226091\n        ],\n        \"semantic_type\": \"\",\n        \"description\": \"\"\n      }\n    },\n    {\n      \"column\": \"score_2\",\n      \"properties\": {\n        \"dtype\": \"number\",\n        \"std\": 0.8759454878096079,\n        \"min\": 5e-06,\n        \"max\": 100.0,\n        \"num_unique_values\": 38047,\n        \"samples\": [\n          0.416306086,\n          0.675062411\n        ],\n        \"semantic_type\": \"\",\n        \"description\": \"\"\n      }\n    },\n    {\n      \"column\": \"score_3\",\n      \"properties\": {\n        \"dtype\": \"number\",\n        \"std\": 0.06272486372343226,\n        \"min\": 0.000527265,\n        \"max\": 0.869210801,\n        \"num_unique_values\": 612,\n        \"samples\": [\n          0.420610964,\n          0.168416171\n        ],\n        \"semantic_type\": \"\",\n        \"description\": \"\"\n      }\n    },\n    {\n      \"column\": \"score_social\",\n      \"properties\": {\n        \"dtype\": \"number\",\n        \"std\": 0.0761796573204536,\n        \"min\": 0.0,\n        \"max\": 1.0,\n        \"num_unique_values\": 1459,\n        \"samples\": [\n          0.1674,\n          0.6381\n        ],\n        \"semantic_type\": \"\",\n        \"description\": \"\"\n      }\n    },\n    {\n      \"column\": \"cambio_telefono\",\n      \"properties\": {\n        \"dtype\": \"number\",\n        \"std\": 818.1417090553241,\n        \"min\": 0.0,\n        \"max\": 4185.0,\n        \"num_unique_values\": 3408,\n        \"samples\": [\n          966.0,\n          3099.0\n        ],\n        \"semantic_type\": \"\",\n        \"description\": \"\"\n      }\n    },\n    {\n      \"column\": \"moroso\",\n      \"properties\": {\n        \"dtype\": \"number\",\n        \"std\": 0,\n        \"min\": 0,\n        \"max\": 1,\n        \"num_unique_values\": 2,\n        \"samples\": [\n          1,\n          0\n        ],\n        \"semantic_type\": \"\",\n        \"description\": \"\"\n      }\n    }\n  ]\n}"
            }
          },
          "metadata": {},
          "execution_count": 2
        }
      ]
    },
    {
      "cell_type": "code",
      "source": [
        "X = datos.drop(columns='moroso')\n",
        "y = datos.moroso"
      ],
      "metadata": {
        "id": "UVIX6QLpP4iC"
      },
      "execution_count": 3,
      "outputs": []
    },
    {
      "cell_type": "code",
      "source": [
        "from sklearn.tree import DecisionTreeClassifier\n",
        "\n",
        "modelo = DecisionTreeClassifier()\n",
        "modelo.fit(X,y)\n",
        "modelo.score(X,y)"
      ],
      "metadata": {
        "id": "MikoMXI7P4dG",
        "colab": {
          "base_uri": "https://localhost:8080/"
        },
        "outputId": "da06fca0-3d5f-4a30-b756-86040037cf28"
      },
      "execution_count": 4,
      "outputs": [
        {
          "output_type": "execute_result",
          "data": {
            "text/plain": [
              "1.0"
            ]
          },
          "metadata": {},
          "execution_count": 4
        }
      ]
    },
    {
      "cell_type": "code",
      "source": [
        "print(f'La exactitud del modelo es: {modelo.score(X,y)}')"
      ],
      "metadata": {
        "colab": {
          "base_uri": "https://localhost:8080/"
        },
        "id": "fNJcuBBCBlrz",
        "outputId": "74865926-86ca-4730-d6c4-048e6b97f7e7"
      },
      "execution_count": 5,
      "outputs": [
        {
          "output_type": "stream",
          "name": "stdout",
          "text": [
            "La exactitud del modelo es: 1.0\n"
          ]
        }
      ]
    },
    {
      "cell_type": "markdown",
      "source": [
        "### Validando el modelo"
      ],
      "metadata": {
        "id": "EPrFcm39oAof"
      }
    },
    {
      "cell_type": "markdown",
      "source": [
        "Evaluar el modelo con los mismos datos utilizados en el entrenamiento no es recomendable. Es necesario que la evaluación se realice con datos independientes.  \n",
        "\n",
        "Evaluar el modelo con los propios datos de entrenamiento sería equivalente a entregar un examen con las preguntas y las respuestas a una persona y, al momento de evaluarla nuevamente, entregarle un examen con las mismas preguntas y opciones. Se espera que esa persona obtenga un buen resultado, ya que ya ha visto las respuestas y ha memorizado el resultado. Esto es diferente de haber aprendido la materia a partir de ese examen y luego presentar una prueba con contenido similar y obtener un resultado positivo.  \n",
        "\n",
        "Con el objetivo de verificar la capacidad de generalización de un modelo, debemos dividir el conjunto de datos en tres partes: datos de entrenamiento, validación y prueba.  \n",
        "\n",
        "- El **conjunto de entrenamiento** se utiliza para entrenar los modelos. A partir de este conjunto, los modelos identifican patrones en los datos.  \n",
        "\n",
        "- El **conjunto de validación** se emplea para evaluar el desempeño de diferentes modelos con datos nuevos que no fueron utilizados en el entrenamiento.  \n",
        "\n",
        "- El **conjunto de prueba** se mantiene separado desde el inicio para simular datos del mundo real. No se utiliza en ninguna etapa del entrenamiento ni de la validación, sirviendo como una estimación de la capacidad del modelo elegido para generalizar y predecir nuevos datos."
      ],
      "metadata": {
        "id": "v0u-uij9eNcD"
      }
    },
    {
      "cell_type": "markdown",
      "source": [
        "<a href=\"https://ibb.co/9H2Z1HZ5\"><img src=\"https://i.ibb.co/0yZs6ysb/datos-train-test.png\" alt=\"datos-train-test\" border=\"0\"></a>"
      ],
      "metadata": {
        "id": "TCIN5oOJFk_W"
      }
    },
    {
      "cell_type": "code",
      "source": [
        "from sklearn.model_selection import train_test_split"
      ],
      "metadata": {
        "id": "OICJjv9HP1QZ"
      },
      "execution_count": 6,
      "outputs": []
    },
    {
      "cell_type": "code",
      "source": [
        "X_train, X_test, y_train, y_test = train_test_split(X, y, test_size=0.15, stratify=y, random_state=5)\n",
        "X_train, X_val, y_train, y_val = train_test_split(X, y, test_size=0.15, stratify=y, random_state=5)"
      ],
      "metadata": {
        "id": "mvDcVFFDP1sB"
      },
      "execution_count": 7,
      "outputs": []
    },
    {
      "cell_type": "code",
      "source": [
        "modelo = DecisionTreeClassifier()\n",
        "modelo.fit(X_train, y_train)\n",
        "print(f'La exactitud del modelo con datos de entrenamiento es: {modelo.score(X_train,y_train)}')\n",
        "print(f'La exactitud del modelo con datos de validacion es: {modelo.score(X_val,y_val)}')"
      ],
      "metadata": {
        "id": "sEJPwwG_P1Md",
        "colab": {
          "base_uri": "https://localhost:8080/"
        },
        "outputId": "f7136bf1-7b76-4d0f-9703-89cbb0c5247f"
      },
      "execution_count": 8,
      "outputs": [
        {
          "output_type": "stream",
          "name": "stdout",
          "text": [
            "La exactitud del modelo con datos de entrenamiento es: 1.0\n",
            "La exactitud del modelo con datos de validacion es: 0.8501974333662389\n"
          ]
        }
      ]
    },
    {
      "cell_type": "code",
      "source": [
        "modelo = DecisionTreeClassifier(max_depth=10)\n",
        "modelo.fit(X_train, y_train)\n",
        "print(f'La exactitud del modelo con datos de entrenamiento es: {modelo.score(X_train,y_train)}')\n",
        "print(f'La exactitud del modelo con datos de validacion es: {modelo.score(X_val,y_val)}')"
      ],
      "metadata": {
        "id": "NIeGQZGcP1J1",
        "colab": {
          "base_uri": "https://localhost:8080/"
        },
        "outputId": "3ce24bf6-31b5-4b38-95c3-f87001c716b6"
      },
      "execution_count": 9,
      "outputs": [
        {
          "output_type": "stream",
          "name": "stdout",
          "text": [
            "La exactitud del modelo con datos de entrenamiento es: 0.9192961825744213\n",
            "La exactitud del modelo con datos de validacion es: 0.9076999012833169\n"
          ]
        }
      ]
    },
    {
      "cell_type": "markdown",
      "source": [
        "### Evaluando el modelo"
      ],
      "metadata": {
        "id": "WtlRAZt96VLG"
      }
    },
    {
      "cell_type": "code",
      "source": [
        "from sklearn.metrics import confusion_matrix"
      ],
      "metadata": {
        "id": "IlUZBhPrPyYh"
      },
      "execution_count": 10,
      "outputs": []
    },
    {
      "cell_type": "code",
      "source": [
        "y_predict = modelo.predict(X_val)\n",
        "matriz_confusion = confusion_matrix(y_val ,y_predict)\n",
        "print(matriz_confusion)"
      ],
      "metadata": {
        "id": "iill3u5HPyOA",
        "colab": {
          "base_uri": "https://localhost:8080/"
        },
        "outputId": "c334f300-31bd-466f-f1f8-04900fe34a1f"
      },
      "execution_count": 11,
      "outputs": [
        {
          "output_type": "stream",
          "name": "stdout",
          "text": [
            "[[7336   61]\n",
            " [ 687   20]]\n"
          ]
        }
      ]
    },
    {
      "cell_type": "code",
      "source": [
        "from sklearn.metrics import ConfusionMatrixDisplay"
      ],
      "metadata": {
        "id": "gtFWt6emPyJt"
      },
      "execution_count": 12,
      "outputs": []
    },
    {
      "cell_type": "code",
      "source": [
        "visualizer = ConfusionMatrixDisplay(matriz_confusion, display_labels=['Cumplido', 'Moroso'])\n",
        "visualizer.plot();"
      ],
      "metadata": {
        "id": "qg0OgZeqPyGJ",
        "colab": {
          "base_uri": "https://localhost:8080/",
          "height": 449
        },
        "outputId": "85ef4766-bacd-42f1-ea83-65fd75f532c0"
      },
      "execution_count": 13,
      "outputs": [
        {
          "output_type": "display_data",
          "data": {
            "text/plain": [
              "<Figure size 640x480 with 2 Axes>"
            ],
            "image/png": "[encoded data removed]"
          },
          "metadata": {}
        }
      ]
    },
    {
      "cell_type": "markdown",
      "source": [
        "Para obtener una evaluación más completa del desempeño de modelos de clasificación, podemos utilizar una herramienta conocida como matriz de confusión. Esta matriz ofrece ventajas a la persona científica de datos, ya que permite entender cuántos errores y aciertos tiene las predicciones de un modelo. En lugar de una tasa de acierto general, la matriz es capaz de proporcionar información en una visualización para cada una de las categorías de la variable objetivo.\n",
        "\n",
        "Piensa en un sistema de seguridad de un edificio que utiliza cámaras para identificar personas que entran. La \"matriz de confusión\" se vuelve valiosa, ya que permite verificar cuántas veces el sistema acertó al identificar correctamente a las personas autorizadas, cuántas veces acusó erróneamente a personas y cuántas veces dejó pasar a personas no autorizadas. Con estos números, es posible ajustar el sistema para minimizar falsos positivos y negativos, mejorando su precisión en la detección de visitantes.\n",
        "\n",
        "En la representación general de una matriz de confusión, para más detalles analiza la imagen a continuación, las filas de la matriz corresponden a los valores reales de la base de datos, mientras que las columnas corresponden a los valores previstos por el modelo de clasificación. Las categorías de la variable objetivo están representadas por el valor 0 (ausencia del atributo), también llamado negativo, y por el valor 1 (presencia del atributo), también llamado positivo.\n",
        "![f881b231-7f60-4f0a-9eb8-2c748f5e1c74.png](data:image/png;base64,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)\n",
        "\n",
        "Cada elemento de la matriz está identificado por un nombre de acuerdo con la intersección entre la predicción y el valor real. La diagonal principal de la matriz, que está destacada por el color verde, representa los elementos que tienen la predicción igual al valor real, por lo tanto son los aciertos del modelo. Por otro lado, la diagonal secundaria, que está destacada por el color rojo, representa los elementos con predicciones diferentes del valor real, por lo tanto son los errores del modelo. La descripción de cada uno de los elementos es la siguiente:\n",
        "\n",
        "* **Verdaderos Negativos (VN):** Cuando el valor real es 0 y la predicción también es 0. Indica que el modelo clasificó correctamente los valores de la clase negativa.\n",
        "\n",
        "* **Falsos Positivos (FP):** Cuando el valor real es 0 y la predicción es 1. Indica que el modelo clasificó erróneamente un elemento de la clase negativa como si fuera de la clase positiva.\n",
        "\n",
        "* **Falsos Negativos (FN):** Cuando el valor real es 1 y la predicción es 0. Indica que el modelo clasificó erróneamente un elemento de la clase positiva como si fuera de la clase negativa.\n",
        "\n",
        "* **Verdaderos Positivos (VP):** Cuando el valor real es 1 y la predicción también es 1. Indica que el modelo clasificó correctamente los valores de la clase positiva.\n",
        "\n",
        "Estos valores son muy útiles para un análisis más profundo del modelo de clasificación. Esto permite identificar las capacidades y limitaciones de la predicción, si hay un equilibrio entre los aciertos y errores o si el resultado está sesgado hacia una clase en detrimento de la otra. Con esto, es evidente que la matriz de confusión es una herramienta mucho más completa que la métrica de precisión, que representa solo el porcentaje de aciertos del modelo, sin considerar las clases de manera aislada.\n"
      ],
      "metadata": {
        "id": "1-X14a0EHZYo"
      }
    },
    {
      "cell_type": "markdown",
      "source": [
        "# 💪 Practica 💪"
      ],
      "metadata": {
        "id": "anrBceJvZNOL"
      }
    },
    {
      "cell_type": "markdown",
      "source": [
        "Se recomienda utilizar más de un modelo de clasificación en proyectos de machine learning, para que se comparen los resultados y se elija aquel modelo que tenga un mejor desempeño, después de todos los análisis y mejoras.\n",
        "\n",
        "Utilizamos durante la clase el algoritmo de árbol de decisión, pero la biblioteca Scikit-Learn tiene varios otros métodos de clasificación que pueden ser utilizados en nuestro proyecto. Como desafío, utiliza el algoritmo Random Forest para crear un modelo y evaluar el desempeño con la precisión y la matriz de confusión, y compara los resultados con el resultado del árbol de decisión.\n",
        "\n",
        "Como un consejo, revisa la documentación del algoritmo [RandomForestClassifier](https://scikit-learn.org/stable/modules/generated/sklearn.ensemble.RandomForestClassifier.html#sklearn.ensemble.RandomForestClassifier). Explora este material y observa cómo importar la función. Durante este proceso, recuerda verificar los parámetros del método para evitar que el modelo se ajuste demasiado a los datos de entrenamiento."
      ],
      "metadata": {
        "id": "8lvW6riHZQjA"
      }
    },
    {
      "cell_type": "code",
      "source": [
        "from sklearn.ensemble import RandomForestClassifier"
      ],
      "metadata": {
        "id": "J0djt0aLZaBc"
      },
      "execution_count": 14,
      "outputs": []
    },
    {
      "cell_type": "code",
      "source": [
        "random_forest = RandomForestClassifier(max_depth=10)\n",
        "\n",
        "random_forest.fit(X_train, y_train)\n",
        "random_forest.score(X_val, y_val)"
      ],
      "metadata": {
        "id": "BgsYj6lpZmrh",
        "outputId": "52fe20ab-02fc-413c-fff9-dad4c1f9617c",
        "colab": {
          "base_uri": "https://localhost:8080/"
        }
      },
      "execution_count": 15,
      "outputs": [
        {
          "output_type": "execute_result",
          "data": {
            "text/plain": [
              "0.9127591312931885"
            ]
          },
          "metadata": {},
          "execution_count": 15
        }
      ]
    },
    {
      "cell_type": "code",
      "source": [
        "from sklearn.metrics import confusion_matrix"
      ],
      "metadata": {
        "id": "fMrhyvELaXMO"
      },
      "execution_count": 16,
      "outputs": []
    },
    {
      "cell_type": "code",
      "source": [
        "y_predict_forest = random_forest.predict(X_val)\n",
        "\n",
        "confusion_matrix_forest = confusion_matrix(y_val, y_predict_forest)\n",
        "print(confusion_matrix_forest)"
      ],
      "metadata": {
        "id": "W6J_V1OwajMV",
        "outputId": "04b31f9d-a5a2-4e3b-df3f-d022771d98c9",
        "colab": {
          "base_uri": "https://localhost:8080/"
        }
      },
      "execution_count": 17,
      "outputs": [
        {
          "output_type": "stream",
          "name": "stdout",
          "text": [
            "[[7394    3]\n",
            " [ 704    3]]\n"
          ]
        }
      ]
    },
    {
      "cell_type": "code",
      "source": [
        "from sklearn.metrics import ConfusionMatrixDisplay"
      ],
      "metadata": {
        "id": "15EPf14zaLP_"
      },
      "execution_count": 18,
      "outputs": []
    },
    {
      "cell_type": "code",
      "source": [
        "visualizer_forest = ConfusionMatrixDisplay(confusion_matrix_forest, display_labels=['Cumplido', 'Moroso'])\n",
        "visualizer_forest.plot();"
      ],
      "metadata": {
        "id": "87j-OpeAaTZa",
        "outputId": "657bb8f0-bdd4-4ac4-f95f-fd476ba3d271",
        "colab": {
          "base_uri": "https://localhost:8080/",
          "height": 449
        }
      },
      "execution_count": 19,
      "outputs": [
        {
          "output_type": "display_data",
          "data": {
            "text/plain": [
              "<Figure size 640x480 with 2 Axes>"
            ],
            "image/png": "[encoded data removed]"
          },
          "metadata": {}
        }
      ]
    },
    {
      "cell_type": "markdown",
      "source": [
        "## <font color='dark'>Métricas de evaluación</h1>"
      ],
      "metadata": {
        "id": "tPogL-24ntSH"
      }
    },
    {
      "cell_type": "markdown",
      "source": [
        "### Exactitud, precisión y recall (sensibilidad)."
      ],
      "metadata": {
        "id": "nP1WfyyR6XMl"
      }
    },
    {
      "cell_type": "markdown",
      "source": [
        "<a href=\"https://ibb.co/351SbY7t\"><img src=\"https://i.ibb.co/wZypqrRD/matriz-confusion.png\" alt=\"matriz-confusion\" border=\"0\"></a>"
      ],
      "metadata": {
        "id": "oE8N0NqoH6hy"
      }
    },
    {
      "cell_type": "markdown",
      "source": [
        "<a href=\"https://imgbb.com/\"><img src=\"https://i.ibb.co/6Jp6rKyC/Captura-de-tela-2025-03-22-120744.png\" alt=\"Captura-de-tela-2025-03-22-120744\" border=\"0\"></a>"
      ],
      "metadata": {
        "id": "k0ldCSgoZiPX"
      }
    },
    {
      "cell_type": "code",
      "source": [
        "from sklearn.metrics import precision_score, recall_score, accuracy_score, f1_score"
      ],
      "metadata": {
        "id": "IIEaf2fmPmq1"
      },
      "execution_count": 20,
      "outputs": []
    },
    {
      "cell_type": "code",
      "source": [
        "45/(45+123) # Precicion"
      ],
      "metadata": {
        "id": "QnGxEIrWPmbx",
        "colab": {
          "base_uri": "https://localhost:8080/"
        },
        "outputId": "26d8c0e5-c77f-4fa2-a076-4f1f7d4b074c"
      },
      "execution_count": 21,
      "outputs": [
        {
          "output_type": "execute_result",
          "data": {
            "text/plain": [
              "0.26785714285714285"
            ]
          },
          "metadata": {},
          "execution_count": 21
        }
      ]
    },
    {
      "cell_type": "code",
      "source": [
        "print(f'La precicion del modelo es: {precision_score(y_val, y_predict)}')\n",
        "print(f'La sensibilidad (Recall) del modelo es: {recall_score(y_val, y_predict)}')\n",
        "print(f'La Exactitud (accuracy) del modelo es: {accuracy_score(y_val, y_predict)}')"
      ],
      "metadata": {
        "id": "7C7NoVZnPmX1",
        "colab": {
          "base_uri": "https://localhost:8080/"
        },
        "outputId": "c82a1596-16fd-452f-94d0-acddf0755c15"
      },
      "execution_count": 22,
      "outputs": [
        {
          "output_type": "stream",
          "name": "stdout",
          "text": [
            "La precicion del modelo es: 0.24691358024691357\n",
            "La sensibilidad (Recall) del modelo es: 0.028288543140028287\n",
            "La Exactitud (accuracy) del modelo es: 0.9076999012833169\n"
          ]
        }
      ]
    },
    {
      "cell_type": "code",
      "source": [
        "print(f'El F1-Score del modelo es: {f1_score(y_val, y_predict)}')"
      ],
      "metadata": {
        "id": "u2SqICFJPmU-",
        "colab": {
          "base_uri": "https://localhost:8080/"
        },
        "outputId": "d88b0052-6cae-45a4-a410-de5a50c20f98"
      },
      "execution_count": 23,
      "outputs": [
        {
          "output_type": "stream",
          "name": "stdout",
          "text": [
            "El F1-Score del modelo es: 0.050761421319796954\n"
          ]
        }
      ]
    },
    {
      "cell_type": "markdown",
      "source": [
        "### Curva ROC"
      ],
      "metadata": {
        "id": "I8ELhexg2jNx"
      }
    },
    {
      "cell_type": "code",
      "source": [
        "from IPython.display import Image\n",
        "Image(url='https://raw.githubusercontent.com/dariyasydykova/open_projects/master/ROC_animation/animations/cutoff.gif')"
      ],
      "metadata": {
        "colab": {
          "base_uri": "https://localhost:8080/",
          "height": 421
        },
        "id": "PhUNE4Xm4MII",
        "outputId": "8a4df1cb-1c73-4391-9b6d-ac9a73448972"
      },
      "execution_count": 24,
      "outputs": [
        {
          "output_type": "execute_result",
          "data": {
            "text/html": [
              "<img src=\"https://raw.githubusercontent.com/dariyasydykova/open_projects/master/ROC_animation/animations/cutoff.gif\"/>"
            ],
            "text/plain": [
              "<IPython.core.display.Image object>"
            ]
          },
          "metadata": {},
          "execution_count": 24
        }
      ]
    },
    {
      "cell_type": "markdown",
      "source": [
        "Fuente: [paulvanderlaken.com](https://paulvanderlaken.com/2019/08/16/roc-auc-precision-and-recall-visually-explained/)\n",
        "\n",
        "\n"
      ],
      "metadata": {
        "id": "XK8_7Ruy32BT"
      }
    },
    {
      "cell_type": "code",
      "source": [
        "from sklearn.metrics import RocCurveDisplay"
      ],
      "metadata": {
        "id": "FHc-8FjePhM6"
      },
      "execution_count": 25,
      "outputs": []
    },
    {
      "cell_type": "code",
      "source": [
        "RocCurveDisplay.from_predictions(y_val, y_predict, name='Arbol de decision');"
      ],
      "metadata": {
        "id": "V6Ua2rY3PhFt",
        "colab": {
          "base_uri": "https://localhost:8080/",
          "height": 451
        },
        "outputId": "d3db4c3a-8b0e-4d31-f6c9-4427e8140330"
      },
      "execution_count": 26,
      "outputs": [
        {
          "output_type": "display_data",
          "data": {
            "text/plain": [
              "<Figure size 640x480 with 1 Axes>"
            ],
            "image/png": "[encoded data removed]"
          },
          "metadata": {}
        }
      ]
    },
    {
      "cell_type": "code",
      "source": [
        "from sklearn.metrics import roc_auc_score"
      ],
      "metadata": {
        "id": "LJE-yyWMPg8R"
      },
      "execution_count": 27,
      "outputs": []
    },
    {
      "cell_type": "code",
      "source": [
        "roc_auc_score(y_val, y_predict)"
      ],
      "metadata": {
        "id": "7mtvjPHsPi1o",
        "colab": {
          "base_uri": "https://localhost:8080/"
        },
        "outputId": "26f7b185-2fed-4ec3-c0f5-ed4e5e4833a3"
      },
      "execution_count": 28,
      "outputs": [
        {
          "output_type": "execute_result",
          "data": {
            "text/plain": [
              "np.float64(0.5100209783430303)"
            ]
          },
          "metadata": {},
          "execution_count": 28
        }
      ]
    },
    {
      "cell_type": "markdown",
      "source": [
        "### Curva de  precisión x sensibilidad"
      ],
      "metadata": {
        "id": "IztSEZfh7QFe"
      }
    },
    {
      "cell_type": "code",
      "source": [
        "Image(url='https://paulvanderlaken.com/wp-content/uploads/2019/08/roc.gif')"
      ],
      "metadata": {
        "colab": {
          "base_uri": "https://localhost:8080/",
          "height": 421
        },
        "id": "EJzfjuxa3fxD",
        "outputId": "1c713f7c-7f52-47aa-82a8-4c6fba849882"
      },
      "execution_count": 29,
      "outputs": [
        {
          "output_type": "execute_result",
          "data": {
            "text/html": [
              "<img src=\"https://paulvanderlaken.com/wp-content/uploads/2019/08/roc.gif\"/>"
            ],
            "text/plain": [
              "<IPython.core.display.Image object>"
            ]
          },
          "metadata": {},
          "execution_count": 29
        }
      ]
    },
    {
      "cell_type": "markdown",
      "source": [
        "Fuente: [paulvanderlaken.com](https://paulvanderlaken.com/2019/08/16/roc-auc-precision-and-recall-visually-explained/)\n"
      ],
      "metadata": {
        "id": "bUoGCSUB4msC"
      }
    },
    {
      "cell_type": "code",
      "source": [
        "from sklearn.metrics import PrecisionRecallDisplay"
      ],
      "metadata": {
        "id": "7t20ira6Pcds"
      },
      "execution_count": 30,
      "outputs": []
    },
    {
      "cell_type": "code",
      "source": [
        "PrecisionRecallDisplay.from_predictions(y_val, y_predict, name='Arobl de desicion');"
      ],
      "metadata": {
        "id": "Drs3Z6RTPcTc",
        "colab": {
          "base_uri": "https://localhost:8080/",
          "height": 451
        },
        "outputId": "f0b8a93f-035e-4ecf-de5b-dec0d7e3dc95"
      },
      "execution_count": 31,
      "outputs": [
        {
          "output_type": "display_data",
          "data": {
            "text/plain": [
              "<Figure size 640x480 with 1 Axes>"
            ],
            "image/png": "[encoded data removed]"
          },
          "metadata": {}
        }
      ]
    },
    {
      "cell_type": "code",
      "source": [
        "from sklearn.metrics import average_precision_score"
      ],
      "metadata": {
        "id": "DmhO5H5cPcOp"
      },
      "execution_count": 32,
      "outputs": []
    },
    {
      "cell_type": "code",
      "source": [
        "print(f'El score del promedio de precision vs recall del modelo es de: {average_precision_score(y_val, y_predict)}')"
      ],
      "metadata": {
        "id": "SS08sHDkPeaG",
        "colab": {
          "base_uri": "https://localhost:8080/"
        },
        "outputId": "f83858ff-52ff-496b-806d-2f1691570bda"
      },
      "execution_count": 33,
      "outputs": [
        {
          "output_type": "stream",
          "name": "stdout",
          "text": [
            "El score del promedio de precision vs recall del modelo es de: 0.09175777709549893\n"
          ]
        }
      ]
    },
    {
      "cell_type": "markdown",
      "source": [
        "### Informe de métricas"
      ],
      "metadata": {
        "id": "Bm2E6GEJDJLH"
      }
    },
    {
      "cell_type": "code",
      "source": [
        "from sklearn.metrics import classification_report"
      ],
      "metadata": {
        "id": "C85qunYhPZTJ"
      },
      "execution_count": 34,
      "outputs": []
    },
    {
      "cell_type": "code",
      "source": [
        "print(classification_report(y_val, y_predict))"
      ],
      "metadata": {
        "id": "pnN6QRlYPZQR",
        "colab": {
          "base_uri": "https://localhost:8080/"
        },
        "outputId": "06881f3a-2e62-4750-aa7b-09609fb8348e"
      },
      "execution_count": 35,
      "outputs": [
        {
          "output_type": "stream",
          "name": "stdout",
          "text": [
            "              precision    recall  f1-score   support\n",
            "\n",
            "           0       0.91      0.99      0.95      7397\n",
            "           1       0.25      0.03      0.05       707\n",
            "\n",
            "    accuracy                           0.91      8104\n",
            "   macro avg       0.58      0.51      0.50      8104\n",
            "weighted avg       0.86      0.91      0.87      8104\n",
            "\n"
          ]
        }
      ]
    },
    {
      "cell_type": "markdown",
      "source": [
        "## <font color='dark'> Validación cruzada</h1>"
      ],
      "metadata": {
        "id": "SuxCy_oZZQxE"
      }
    },
    {
      "cell_type": "markdown",
      "source": [
        "### Usando KFold"
      ],
      "metadata": {
        "id": "17q2T0iRnzSg"
      }
    },
    {
      "cell_type": "markdown",
      "source": [
        "La validación del modelo de clasificación a partir de la separación de los datos en conjuntos de entrenamiento y validación hace que el resultado dependa en gran medida de esta división. Puede suceder que, de forma aleatoria, el patrón de los datos de validación sea diferente al de los datos de entrenamiento, lo que podría llevar a obtener un resultado mucho mejor o mucho peor que la realidad simplemente por suerte o mala suerte.  \n",
        "\n",
        "Teniendo esto en cuenta, es posible utilizar la **validación cruzada**, una estrategia más consistente y ampliamente utilizada en proyectos de *machine learning*.  \n",
        "\n",
        "En la validación cruzada, en lugar de separar los datos en entrenamiento y validación una sola vez, se dividen en varias partes de igual tamaño. En cada una de estas divisiones, se usa una parte para validación y todas las demás para entrenamiento. Este proceso se repite hasta que todas las partes hayan sido utilizadas tanto para validación como para entrenamiento.  \n",
        "\n",
        "Se generará un modelo para cada una de estas divisiones y la evaluación del desempeño se realizará promediando la métrica de cada modelo. Esto elimina la dependencia de la separación de los datos, ya que hay una mayor variación en la selección de los mismos y se obtiene un valor medio.  \n",
        "\n",
        "Generalmente, se utilizan 5 o 10 partes. Un número mayor no suele ser necesario, ya que implica un procesamiento más costoso, y valores menores ya ayudan a mitigar el problema de la selección de los datos."
      ],
      "metadata": {
        "id": "zjfYnDWJ6C2A"
      }
    },
    {
      "cell_type": "markdown",
      "source": [
        "<a href=\"https://ibb.co/KcBtshJR\"><img src=\"https://i.ibb.co/nq4X1mFZ/train-y-validacion.png\" alt=\"train-y-validacion\" border=\"0\"></a>"
      ],
      "metadata": {
        "id": "oSboV-QNMG__"
      }
    },
    {
      "cell_type": "code",
      "source": [
        "from sklearn.model_selection import KFold, cross_validate"
      ],
      "metadata": {
        "id": "TU8HYdzmPI7P"
      },
      "execution_count": 36,
      "outputs": []
    },
    {
      "cell_type": "code",
      "source": [
        "modelo = DecisionTreeClassifier(max_depth=10)\n",
        "kf = KFold(n_splits=5, shuffle=True, random_state=5)\n",
        "cv_resultados = cross_validate(modelo, X, y, cv=kf)\n",
        "cv_resultados"
      ],
      "metadata": {
        "id": "McSadnzDPI4G",
        "outputId": "be30b8fa-3c6a-47bb-ba41-98006ffee361",
        "colab": {
          "base_uri": "https://localhost:8080/"
        }
      },
      "execution_count": 37,
      "outputs": [
        {
          "output_type": "execute_result",
          "data": {
            "text/plain": [
              "{'fit_time': array([0.28843117, 0.27433252, 0.28375244, 0.27758121, 0.27031493]),\n",
              " 'score_time': array([0.00403142, 0.00356269, 0.00361657, 0.00575018, 0.00353146]),\n",
              " 'test_score': array([0.90670986, 0.9090236 , 0.90782045, 0.9099491 , 0.9082832 ])}"
            ]
          },
          "metadata": {},
          "execution_count": 37
        }
      ]
    },
    {
      "cell_type": "code",
      "source": [
        "cv_resultados['test_score']"
      ],
      "metadata": {
        "id": "o5oZ8-lhPIy_",
        "outputId": "482a693d-1c6c-4df1-fcd6-9ea6b7b9c708",
        "colab": {
          "base_uri": "https://localhost:8080/"
        }
      },
      "execution_count": 38,
      "outputs": [
        {
          "output_type": "execute_result",
          "data": {
            "text/plain": [
              "array([0.90670986, 0.9090236 , 0.90782045, 0.9099491 , 0.9082832 ])"
            ]
          },
          "metadata": {},
          "execution_count": 38
        }
      ]
    },
    {
      "cell_type": "markdown",
      "source": [
        "### Validación cruzada con sensibilidad"
      ],
      "metadata": {
        "id": "GAHrtLM2OCjO"
      }
    },
    {
      "cell_type": "code",
      "source": [
        "promedio = cv_resultados['test_score'].mean()\n",
        "desvio_std = cv_resultados['test_score'].std()\n",
        "print(f'El promedio de la exactitud es: {promedio}')\n",
        "print(f'El desvio es: {desvio_std}')\n",
        "print(f'El intervalo de confianza es: [{(promedio-2*desvio_std)},{min((promedio+2*desvio_std),1)}]')"
      ],
      "metadata": {
        "id": "Ywfsoe3_PLYZ",
        "outputId": "4f5f8f47-f5a4-432c-f711-0903ed3f5dc2",
        "colab": {
          "base_uri": "https://localhost:8080/"
        }
      },
      "execution_count": 39,
      "outputs": [
        {
          "output_type": "stream",
          "name": "stdout",
          "text": [
            "El promedio de la exactitud es: 0.9083572420175845\n",
            "El desvio es: 0.001094124328080083\n",
            "El intervalo de confianza es: [0.9061689933614243,0.9105454906737447]\n"
          ]
        }
      ]
    },
    {
      "cell_type": "code",
      "source": [],
      "metadata": {
        "id": "PV3m-6IxPLMf"
      },
      "execution_count": null,
      "outputs": []
    },
    {
      "cell_type": "code",
      "source": [],
      "metadata": {
        "id": "Y-gpgU7pPLJv"
      },
      "execution_count": null,
      "outputs": []
    },
    {
      "cell_type": "markdown",
      "source": [
        "### Estratificando los datos"
      ],
      "metadata": {
        "id": "-FAOYtNen4qJ"
      }
    },
    {
      "cell_type": "code",
      "source": [],
      "metadata": {
        "id": "G6bPA6vaPN1A"
      },
      "execution_count": null,
      "outputs": []
    },
    {
      "cell_type": "code",
      "source": [],
      "metadata": {
        "id": "HONIpY1BPNzd"
      },
      "execution_count": null,
      "outputs": []
    },
    {
      "cell_type": "code",
      "source": [],
      "metadata": {
        "id": "jCFRBhd_PNxT"
      },
      "execution_count": null,
      "outputs": []
    },
    {
      "cell_type": "markdown",
      "source": [
        "## <font color='dark'>Balanceo de los datos</h1>"
      ],
      "metadata": {
        "id": "yaVwNb1kn8sX"
      }
    },
    {
      "cell_type": "markdown",
      "source": [
        "### Oversampling"
      ],
      "metadata": {
        "id": "4eYKxWJd6g6w"
      }
    },
    {
      "cell_type": "markdown",
      "source": [
        "https://imbalanced-learn.org/stable/references/generated/imblearn.over_sampling.SMOTE.html#id1"
      ],
      "metadata": {
        "id": "N0MJ7hGUmL4l"
      }
    },
    {
      "cell_type": "code",
      "source": [],
      "metadata": {
        "id": "cO0Dx5xAO4B5"
      },
      "execution_count": null,
      "outputs": []
    },
    {
      "cell_type": "code",
      "source": [],
      "metadata": {
        "id": "h6DQqcttO3_c"
      },
      "execution_count": null,
      "outputs": []
    },
    {
      "cell_type": "code",
      "source": [],
      "metadata": {
        "id": "7Lp4GoMRO355"
      },
      "execution_count": null,
      "outputs": []
    },
    {
      "cell_type": "markdown",
      "source": [
        "### Pipeline para validación"
      ],
      "metadata": {
        "id": "fHSNXznm6ia-"
      }
    },
    {
      "cell_type": "code",
      "source": [],
      "metadata": {
        "id": "DaoAbR84O44S"
      },
      "execution_count": null,
      "outputs": []
    },
    {
      "cell_type": "code",
      "source": [],
      "metadata": {
        "id": "7UezUduWO41c"
      },
      "execution_count": null,
      "outputs": []
    },
    {
      "cell_type": "code",
      "source": [],
      "metadata": {
        "id": "b7Z-pe6wO4yN"
      },
      "execution_count": null,
      "outputs": []
    },
    {
      "cell_type": "markdown",
      "source": [
        "### Undersampling"
      ],
      "metadata": {
        "id": "66PlvwjX6kFv"
      }
    },
    {
      "cell_type": "markdown",
      "source": [
        "https://imbalanced-learn.org/stable/references/generated/imblearn.under_sampling.NearMiss.html"
      ],
      "metadata": {
        "id": "Fh6VZN5Fx7wl"
      }
    },
    {
      "cell_type": "code",
      "source": [],
      "metadata": {
        "id": "lUn59uqAO63N"
      },
      "execution_count": null,
      "outputs": []
    },
    {
      "cell_type": "code",
      "source": [],
      "metadata": {
        "id": "pOUKHwqRO6zb"
      },
      "execution_count": null,
      "outputs": []
    },
    {
      "cell_type": "code",
      "source": [],
      "metadata": {
        "id": "ykn9H4kFO6so"
      },
      "execution_count": null,
      "outputs": []
    },
    {
      "cell_type": "markdown",
      "source": [
        "### Probando el modelo"
      ],
      "metadata": {
        "id": "EP-44U0eHt-a"
      }
    },
    {
      "cell_type": "code",
      "source": [],
      "metadata": {
        "id": "XWhZlwOTO8eN"
      },
      "execution_count": null,
      "outputs": []
    },
    {
      "cell_type": "code",
      "source": [],
      "metadata": {
        "id": "gZHVqM6hO8bt"
      },
      "execution_count": null,
      "outputs": []
    },
    {
      "cell_type": "code",
      "source": [],
      "metadata": {
        "id": "QSrpOQpxO8WT"
      },
      "execution_count": null,
      "outputs": []
    }
  ]
}